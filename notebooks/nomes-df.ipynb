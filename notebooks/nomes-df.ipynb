{
 "cells": [
  {
   "cell_type": "code",
   "execution_count": 1,
   "metadata": {},
   "outputs": [],
   "source": [
    "import pandas as pd"
   ]
  },
  {
   "cell_type": "code",
   "execution_count": 2,
   "metadata": {},
   "outputs": [],
   "source": [
    "df = pd.read_csv('genero-nomes-7d71389d25584ac4b690706243b52178.csv')"
   ]
  },
  {
   "cell_type": "code",
   "execution_count": 3,
   "metadata": {},
   "outputs": [],
   "source": [
    "df.drop(labels=['ratio', 'group_name', 'frequency_female', 'frequency_male', 'frequency_total', 'frequency_group'], inplace=True, axis=1)"
   ]
  },
  {
   "cell_type": "code",
   "execution_count": 4,
   "metadata": {},
   "outputs": [],
   "source": [
    "df['alternative_names_list']=df['alternative_names'].str.split('|')"
   ]
  },
  {
   "cell_type": "code",
   "execution_count": 5,
   "metadata": {},
   "outputs": [],
   "source": [
    "df.drop(['alternative_names'], axis=1, inplace=True)"
   ]
  },
  {
   "cell_type": "code",
   "execution_count": 6,
   "metadata": {},
   "outputs": [
    {
     "data": {
      "text/html": [
       "<div>\n",
       "<style scoped>\n",
       "    .dataframe tbody tr th:only-of-type {\n",
       "        vertical-align: middle;\n",
       "    }\n",
       "\n",
       "    .dataframe tbody tr th {\n",
       "        vertical-align: top;\n",
       "    }\n",
       "\n",
       "    .dataframe thead th {\n",
       "        text-align: right;\n",
       "    }\n",
       "</style>\n",
       "<table border=\"1\" class=\"dataframe\">\n",
       "  <thead>\n",
       "    <tr style=\"text-align: right;\">\n",
       "      <th></th>\n",
       "      <th>first_name</th>\n",
       "      <th>classification</th>\n",
       "      <th>alternative_names_list</th>\n",
       "    </tr>\n",
       "  </thead>\n",
       "  <tbody>\n",
       "    <tr>\n",
       "      <th>0</th>\n",
       "      <td>AABRAO</td>\n",
       "      <td>M</td>\n",
       "      <td>[ABRAAO, ABRAHAO, ABRAO, ABRHAO, ABRRAO, ADRAA...</td>\n",
       "    </tr>\n",
       "    <tr>\n",
       "      <th>1</th>\n",
       "      <td>AADRIANA</td>\n",
       "      <td>F</td>\n",
       "      <td>[ABRIANA, ADRAINA, ADRIANA, ADRIANNA, ADRRIANA...</td>\n",
       "    </tr>\n",
       "    <tr>\n",
       "      <th>2</th>\n",
       "      <td>AADRIANO</td>\n",
       "      <td>M</td>\n",
       "      <td>[ABRIANO, ADRIANNO, ADRIANO, ADRYANO]</td>\n",
       "    </tr>\n",
       "    <tr>\n",
       "      <th>3</th>\n",
       "      <td>AAILTON</td>\n",
       "      <td>M</td>\n",
       "      <td>[AELTOM, AELTON, AHILTON, AILTHON, AILTOM, AIL...</td>\n",
       "    </tr>\n",
       "    <tr>\n",
       "      <th>4</th>\n",
       "      <td>AALAN</td>\n",
       "      <td>M</td>\n",
       "      <td>[AHLAM, AILAM, AILAN, ALAAN, ALAM, ALAN, ALANN...</td>\n",
       "    </tr>\n",
       "  </tbody>\n",
       "</table>\n",
       "</div>"
      ],
      "text/plain": [
       "  first_name classification                             alternative_names_list\n",
       "0     AABRAO              M  [ABRAAO, ABRAHAO, ABRAO, ABRHAO, ABRRAO, ADRAA...\n",
       "1   AADRIANA              F  [ABRIANA, ADRAINA, ADRIANA, ADRIANNA, ADRRIANA...\n",
       "2   AADRIANO              M              [ABRIANO, ADRIANNO, ADRIANO, ADRYANO]\n",
       "3    AAILTON              M  [AELTOM, AELTON, AHILTON, AILTHON, AILTOM, AIL...\n",
       "4      AALAN              M  [AHLAM, AILAM, AILAN, ALAAN, ALAM, ALAN, ALANN..."
      ]
     },
     "execution_count": 6,
     "metadata": {},
     "output_type": "execute_result"
    }
   ],
   "source": [
    "df.head()"
   ]
  },
  {
   "cell_type": "markdown",
   "metadata": {},
   "source": [
    "df[:4].alternative_names_list.apply(pd.Series) \\ # separar cada item da lista em uma coluna\n",
    "    .merge(df, right_index = True, left_index = True) \\ # colocar em cada linha os atributos que já tinha antes\n",
    "    .drop([\"alternative_names_list\"], axis = 1) \\ # tirar a linha com a lista\n",
    "    .melt(id_vars = ['classification'], value_name = \"alternative_names_list\") \\\n",
    "    .drop(\"variable\", axis = 1) \\\n",
    "    .dropna()"
   ]
  },
  {
   "cell_type": "code",
   "execution_count": 7,
   "metadata": {},
   "outputs": [],
   "source": [
    "df_first_name = df.drop('alternative_names_list', axis=1).copy()"
   ]
  },
  {
   "cell_type": "code",
   "execution_count": 8,
   "metadata": {},
   "outputs": [
    {
     "data": {
      "text/plain": [
       "(100787, 2)"
      ]
     },
     "execution_count": 8,
     "metadata": {},
     "output_type": "execute_result"
    }
   ],
   "source": [
    "df_first_name.shape"
   ]
  },
  {
   "cell_type": "code",
   "execution_count": 9,
   "metadata": {},
   "outputs": [],
   "source": [
    "df_novo = df.alternative_names_list.apply(pd.Series) \\\n",
    "    .merge(df, right_index = True, left_index = True) \\\n",
    "    .drop([\"alternative_names_list\"], axis = 1) \\\n",
    "    .melt(id_vars = ['classification'], value_name = \"first_name\") \\\n",
    "    .drop(\"variable\", axis = 1) \\\n",
    "    .dropna()"
   ]
  },
  {
   "cell_type": "code",
   "execution_count": 10,
   "metadata": {},
   "outputs": [
    {
     "data": {
      "text/plain": [
       "(519852, 2)"
      ]
     },
     "execution_count": 10,
     "metadata": {},
     "output_type": "execute_result"
    }
   ],
   "source": [
    "df_novo.shape"
   ]
  },
  {
   "cell_type": "code",
   "execution_count": 11,
   "metadata": {},
   "outputs": [],
   "source": [
    "df_novo = df_novo.append(df_first_name, sort=True).reset_index(drop=True)"
   ]
  },
  {
   "cell_type": "code",
   "execution_count": 12,
   "metadata": {},
   "outputs": [
    {
     "name": "stderr",
     "output_type": "stream",
     "text": [
      "/usr/local/lib/python3.5/dist-packages/pandas/core/frame.py:6201: FutureWarning: Sorting because non-concatenation axis is not aligned. A future version\n",
      "of pandas will change to not sort by default.\n",
      "\n",
      "To accept the future behavior, pass 'sort=True'.\n",
      "\n",
      "To retain the current behavior and silence the warning, pass sort=False\n",
      "\n",
      "  sort=sort)\n"
     ]
    }
   ],
   "source": [
    "df_nomes_comp = pd.read_csv('nomes_unk.csv', index_col=0)\n",
    "df_novo = df_novo.append(df_nomes_comp)"
   ]
  },
  {
   "cell_type": "code",
   "execution_count": 13,
   "metadata": {},
   "outputs": [],
   "source": [
    "df_novo.first_name = df_novo.first_name.str.lower()\n",
    "\n",
    "df_novo.classification[df_novo.classification=='M'] = 0\n",
    "\n",
    "df_novo.classification[df_novo.classification=='F'] = 1"
   ]
  },
  {
   "cell_type": "code",
   "execution_count": 14,
   "metadata": {},
   "outputs": [],
   "source": [
    "df_novo=df_novo[['first_name', 'classification']]"
   ]
  },
  {
   "cell_type": "code",
   "execution_count": 15,
   "metadata": {},
   "outputs": [],
   "source": [
    "df_novo.reset_index(drop=True, inplace=True)"
   ]
  },
  {
   "cell_type": "code",
   "execution_count": 16,
   "metadata": {},
   "outputs": [],
   "source": [
    "df_novo.to_csv('custom.txt', index=False)"
   ]
  },
  {
   "cell_type": "code",
   "execution_count": null,
   "metadata": {},
   "outputs": [],
   "source": []
  }
 ],
 "metadata": {
  "kernelspec": {
   "display_name": "Python 3",
   "language": "python",
   "name": "python3"
  },
  "language_info": {
   "codemirror_mode": {
    "name": "ipython",
    "version": 3
   },
   "file_extension": ".py",
   "mimetype": "text/x-python",
   "name": "python",
   "nbconvert_exporter": "python",
   "pygments_lexer": "ipython3",
   "version": "3.5.2"
  }
 },
 "nbformat": 4,
 "nbformat_minor": 2
}
