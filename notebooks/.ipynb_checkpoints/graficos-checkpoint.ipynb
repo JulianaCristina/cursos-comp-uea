{
 "cells": [
  {
   "cell_type": "code",
   "execution_count": 17,
   "metadata": {},
   "outputs": [],
   "source": [
    "import pandas as pd"
   ]
  },
  {
   "cell_type": "code",
   "execution_count": 18,
   "metadata": {},
   "outputs": [],
   "source": [
    "df_cursos = pd.read_csv('../outputs/dfs_cursos/cursos_comp_uea.csv', index_col=0)"
   ]
  },
  {
   "cell_type": "code",
   "execution_count": 19,
   "metadata": {},
   "outputs": [],
   "source": [
    "df_cursos.rename(columns={'genero': 'Gênero', 'curso': 'Curso'}, inplace=True)"
   ]
  },
  {
   "cell_type": "code",
   "execution_count": 20,
   "metadata": {
    "scrolled": true
   },
   "outputs": [
    {
     "name": "stderr",
     "output_type": "stream",
     "text": [
      "/usr/local/lib/python3.5/dist-packages/pandas/core/indexing.py:189: SettingWithCopyWarning: \n",
      "A value is trying to be set on a copy of a slice from a DataFrame\n",
      "\n",
      "See the caveats in the documentation: http://pandas.pydata.org/pandas-docs/stable/indexing.html#indexing-view-versus-copy\n",
      "  self._setitem_with_indexer(indexer, value)\n"
     ]
    }
   ],
   "source": [
    "df_cursos['Gênero'].loc[df_cursos['Gênero']==0] = 'Masculino'\n",
    "\n",
    "df_cursos['Gênero'].loc[df_cursos['Gênero']==1] = 'Feminino'"
   ]
  },
  {
   "cell_type": "code",
   "execution_count": 21,
   "metadata": {},
   "outputs": [
    {
     "name": "stderr",
     "output_type": "stream",
     "text": [
      "/usr/local/lib/python3.5/dist-packages/pandas/core/indexing.py:189: SettingWithCopyWarning: \n",
      "A value is trying to be set on a copy of a slice from a DataFrame\n",
      "\n",
      "See the caveats in the documentation: http://pandas.pydata.org/pandas-docs/stable/indexing.html#indexing-view-versus-copy\n",
      "  self._setitem_with_indexer(indexer, value)\n"
     ]
    }
   ],
   "source": [
    "df_cursos['Curso'].loc[df_cursos['Curso']=='eng_comp'] = 'Engenharia \\nde Compuação'\n",
    "\n",
    "df_cursos['Curso'].loc[df_cursos['Curso']=='si'] = 'Sistemas de\\n Informação'\n",
    "\n",
    "df_cursos['Curso'].loc[df_cursos['Curso']=='jogos'] = 'Jogos \\nDigitais'\n",
    "\n",
    "df_cursos['Curso'].loc[df_cursos['Curso']=='proc_dados'] = 'Processamento\\n de Dados'\n",
    "\n",
    "df_cursos['Curso'].loc[df_cursos['Curso']=='lic_inf'] = 'Licenciatura \\nem Informática'\n",
    "\n",
    "df_cursos['Curso'].loc[df_cursos['Curso']=='lic_comp'] = 'Licenciatura \\nem Computação'"
   ]
  },
  {
   "cell_type": "code",
   "execution_count": 22,
   "metadata": {
    "scrolled": true
   },
   "outputs": [
    {
     "data": {
      "text/html": [
       "<div>\n",
       "<style scoped>\n",
       "    .dataframe tbody tr th:only-of-type {\n",
       "        vertical-align: middle;\n",
       "    }\n",
       "\n",
       "    .dataframe tbody tr th {\n",
       "        vertical-align: top;\n",
       "    }\n",
       "\n",
       "    .dataframe thead th {\n",
       "        text-align: right;\n",
       "    }\n",
       "</style>\n",
       "<table border=\"1\" class=\"dataframe\">\n",
       "  <thead>\n",
       "    <tr style=\"text-align: right;\">\n",
       "      <th></th>\n",
       "      <th>Matrícula</th>\n",
       "      <th>Nome</th>\n",
       "      <th>Forma de Ingresso</th>\n",
       "      <th>Situação</th>\n",
       "      <th>Ingresso</th>\n",
       "      <th>Turno</th>\n",
       "      <th>Gênero</th>\n",
       "      <th>Curso</th>\n",
       "    </tr>\n",
       "  </thead>\n",
       "  <tbody>\n",
       "    <tr>\n",
       "      <th>0</th>\n",
       "      <td>1915080050</td>\n",
       "      <td>Adan Thierry Souza Dos Santos</td>\n",
       "      <td>Vestibular</td>\n",
       "      <td>Ativo</td>\n",
       "      <td>2019/1</td>\n",
       "      <td>integral</td>\n",
       "      <td>Masculino</td>\n",
       "      <td>Engenharia \\nde Compuação</td>\n",
       "    </tr>\n",
       "    <tr>\n",
       "      <th>1</th>\n",
       "      <td>1915080001</td>\n",
       "      <td>Alejandro Da Rocha Loureiro</td>\n",
       "      <td>Vestibular</td>\n",
       "      <td>Ativo</td>\n",
       "      <td>2019/1</td>\n",
       "      <td>integral</td>\n",
       "      <td>Masculino</td>\n",
       "      <td>Engenharia \\nde Compuação</td>\n",
       "    </tr>\n",
       "    <tr>\n",
       "      <th>2</th>\n",
       "      <td>1915080049</td>\n",
       "      <td>Brayan Santos Da Silva</td>\n",
       "      <td>Vestibular</td>\n",
       "      <td>Ativo</td>\n",
       "      <td>2019/1</td>\n",
       "      <td>integral</td>\n",
       "      <td>Masculino</td>\n",
       "      <td>Engenharia \\nde Compuação</td>\n",
       "    </tr>\n",
       "    <tr>\n",
       "      <th>3</th>\n",
       "      <td>1915080060</td>\n",
       "      <td>Caio Vinicius Pereira Moura</td>\n",
       "      <td>SIS</td>\n",
       "      <td>Ativo</td>\n",
       "      <td>2019/1</td>\n",
       "      <td>integral</td>\n",
       "      <td>Masculino</td>\n",
       "      <td>Engenharia \\nde Compuação</td>\n",
       "    </tr>\n",
       "    <tr>\n",
       "      <th>4</th>\n",
       "      <td>1915080053</td>\n",
       "      <td>Davi Rodrigues De Franca</td>\n",
       "      <td>Vestibular</td>\n",
       "      <td>Ativo</td>\n",
       "      <td>2019/1</td>\n",
       "      <td>integral</td>\n",
       "      <td>Masculino</td>\n",
       "      <td>Engenharia \\nde Compuação</td>\n",
       "    </tr>\n",
       "  </tbody>\n",
       "</table>\n",
       "</div>"
      ],
      "text/plain": [
       "    Matrícula                           Nome Forma de Ingresso Situação  \\\n",
       "0  1915080050  Adan Thierry Souza Dos Santos        Vestibular    Ativo   \n",
       "1  1915080001    Alejandro Da Rocha Loureiro        Vestibular    Ativo   \n",
       "2  1915080049         Brayan Santos Da Silva        Vestibular    Ativo   \n",
       "3  1915080060    Caio Vinicius Pereira Moura               SIS    Ativo   \n",
       "4  1915080053       Davi Rodrigues De Franca        Vestibular    Ativo   \n",
       "\n",
       "  Ingresso     Turno     Gênero                      Curso  \n",
       "0   2019/1  integral  Masculino  Engenharia \\nde Compuação  \n",
       "1   2019/1  integral  Masculino  Engenharia \\nde Compuação  \n",
       "2   2019/1  integral  Masculino  Engenharia \\nde Compuação  \n",
       "3   2019/1  integral  Masculino  Engenharia \\nde Compuação  \n",
       "4   2019/1  integral  Masculino  Engenharia \\nde Compuação  "
      ]
     },
     "execution_count": 22,
     "metadata": {},
     "output_type": "execute_result"
    }
   ],
   "source": [
    "df_cursos.head()"
   ]
  },
  {
   "cell_type": "code",
   "execution_count": 23,
   "metadata": {},
   "outputs": [],
   "source": [
    "import seaborn as sns\n",
    "import matplotlib.pyplot as plt\n",
    "%matplotlib inline\n",
    "sns.set(style=\"whitegrid\")"
   ]
  },
  {
   "cell_type": "markdown",
   "metadata": {},
   "source": [
    "Plotar a quantidade de homens versus mulheres durante os anos nos cursos de tecnologia da est"
   ]
  },
  {
   "cell_type": "code",
   "execution_count": 24,
   "metadata": {},
   "outputs": [
    {
     "data": {
      "image/png": "[encoded data removed]",
      "text/plain": [
       "<matplotlib.figure.Figure at 0x7f3e0fe13c88>"
      ]
     },
     "metadata": {},
     "output_type": "display_data"
    }
   ],
   "source": [
    "ax = sns.countplot(x='Gênero', data=df_cursos, palette='Greys')\n",
    "ax.set_ylabel(\"Quantidade\")\n",
    "ax.figure.savefig(\"Total-cursos-genero.png\")"
   ]
  },
  {
   "cell_type": "code",
   "execution_count": 25,
   "metadata": {},
   "outputs": [
    {
     "data": {
      "text/plain": [
       "<matplotlib.figure.Figure at 0x7f3e0fdea208>"
      ]
     },
     "metadata": {},
     "output_type": "display_data"
    }
   ],
   "source": [
    "plt.clf()"
   ]
  },
  {
   "cell_type": "code",
   "execution_count": 27,
   "metadata": {
    "scrolled": true
   },
   "outputs": [
    {
     "data": {
      "image/png": "[encoded data removed]",
      "text/plain": [
       "<matplotlib.figure.Figure at 0x7f3e0ff2c908>"
      ]
     },
     "metadata": {},
     "output_type": "display_data"
    }
   ],
   "source": [
    "fig, ax = plt.subplots(figsize=(10,4))\n",
    "sns.countplot(ax=ax, x='Situação', hue='Gênero', data=df_cursos, palette='Greys')\n",
    "ax.set_ylabel(\"Quantidade\")\n",
    "ax.figure.savefig(\"Situacao-genero-total.png\")"
   ]
  },
  {
   "cell_type": "code",
   "execution_count": 31,
   "metadata": {},
   "outputs": [
    {
     "data": {
      "text/plain": [
       "Gênero     Situação   \n",
       "Feminino   Cancelado      0.432203\n",
       "           Concluido      0.272599\n",
       "           Ativo          0.179379\n",
       "           Jubilado       0.111582\n",
       "           Transferido    0.004237\n",
       "Masculino  Cancelado      0.481841\n",
       "           Ativo          0.215857\n",
       "           Concluido      0.209207\n",
       "           Jubilado       0.086957\n",
       "           Transferido    0.006138\n",
       "Name: Situação, dtype: float64"
      ]
     },
     "execution_count": 31,
     "metadata": {},
     "output_type": "execute_result"
    }
   ],
   "source": [
    "df_cursos_situacao = df_cursos.groupby('Gênero')['Situação']. \\\n",
    "                     value_counts(normalize=True). \\\n",
    "                     rename('percentage'). \\\n",
    "                     mul(100). \\\n",
    "                     reset_index()"
   ]
  },
  {
   "cell_type": "code",
   "execution_count": 28,
   "metadata": {},
   "outputs": [
    {
     "data": {
      "image/png": "[encoded data removed]",
      "text/plain": [
       "<matplotlib.figure.Figure at 0x7f3e1021b550>"
      ]
     },
     "metadata": {},
     "output_type": "display_data"
    }
   ],
   "source": [
    "fig, ax = plt.subplots(figsize=(10,4))\n",
    "sns.countplot(ax=ax, x='Curso', hue='Gênero', data=df_cursos, palette='Greys')\n",
    "ax.set_ylabel(\"Quantidade\")\n",
    "ax.figure.savefig(\"Cursos-genero-separado.png\")"
   ]
  },
  {
   "cell_type": "code",
   "execution_count": null,
   "metadata": {},
   "outputs": [],
   "source": []
  }
 ],
 "metadata": {
  "kernelspec": {
   "display_name": "Python 3",
   "language": "python",
   "name": "python3"
  },
  "language_info": {
   "codemirror_mode": {
    "name": "ipython",
    "version": 3
   },
   "file_extension": ".py",
   "mimetype": "text/x-python",
   "name": "python",
   "nbconvert_exporter": "python",
   "pygments_lexer": "ipython3",
   "version": "3.5.2"
  }
 },
 "nbformat": 4,
 "nbformat_minor": 2
}
