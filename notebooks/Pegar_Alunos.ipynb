{
 "cells": [
  {
   "cell_type": "code",
   "execution_count": 4,
   "metadata": {},
   "outputs": [
    {
     "name": "stdout",
     "output_type": "stream",
     "text": [
      "oi\n"
     ]
    }
   ],
   "source": [
    "print('oi')"
   ]
  },
  {
   "cell_type": "code",
   "execution_count": 2,
   "metadata": {},
   "outputs": [],
   "source": [
    "import codecs\n",
    "import pandas as pd"
   ]
  },
  {
   "cell_type": "code",
   "execution_count": 1,
   "metadata": {},
   "outputs": [],
   "source": [
    "path = '../paginas-web/'"
   ]
  },
  {
   "cell_type": "code",
   "execution_count": 6,
   "metadata": {},
   "outputs": [],
   "source": [
    "anos_eng = ['2019/1', '2018/1', '2017/1', '2016/1', '2015/1',\n",
    "            '2014/1', '2013/1', '2012/1', '2011/1', '2010/1', '2009/1', '2008/1', '2007/1', '2006/2', '2006/1',\n",
    "            '2005/2' ,'2004/2', '2003/2', '2003/1', '2002/2', '2002/1' ,'2001/1', '2000/1', '1999/1', '1998/1',\n",
    "            '1997/1', '1995/1', '1994/1', '1993/1', '1992/1', '1989/1', '1988/1']\n",
    "#eng integral\n",
    "anos_jogos = ['2015/1'] #integral jogos 1\n",
    "\n",
    "anos_proc = ['2009/1', '2008/60', '2008/2','2008/1', '2007/1', '2006/60', '2006/2', '2006/1', '2005/2', '2004/2', '2004/1', '2003/2', '2003/1',\n",
    "             '2002/1', '2001/1', '2000/1', '1999/1', '1998/1', '1997/1',  '1996/2', '1996/1', '1995/1', '1994/1', '1993/1', '1992/1', '1990/1', '1979/1']\n",
    "# noturno processamento 27\n",
    "\n",
    "\n",
    "anos_lic_inf = ['2014/1', '2013/1', '2012/1', '2011/1', '2010/1', '2009/2', '2009/1', '2008/1', '2007/2', '2007/1', '2006/2','2006/1',\n",
    "        '2004/2', '2004/1', '2003/2', '2002/1'] # 5 ultimos  vespertino, resto noturno 16\n",
    "\n",
    "anos_lic_comp = ['2019/1', '2018/1',' 2017/1', '2016/1', '2015/1',\n",
    "        '2014/1', '2013/1', '2012/1', '2011/1', '2010/1', '2009/1', '2008/1']\n",
    "#lic comp vespertino 12\n",
    "\n",
    "anos_si = ['2019/1', '2018/1',' 2017/1', '2016/1', '2015/1',\n",
    "        '2014/1', '2013/1', '2012/1', '2011/1', '2009/1', '2007/1', '2006/1']\n",
    "#si integral 12"
   ]
  },
  {
   "cell_type": "code",
   "execution_count": 7,
   "metadata": {},
   "outputs": [],
   "source": [
    "dict_input = {'eng_comp': [path + 'eng/UEA Cursos.html','integral',anos_eng],\n",
    "              'jogos': [path + 'jogos/UEA Cursos.html','integral',anos_jogos],\n",
    "              'proc_dados': [path + 'proc_dados/UEA Cursos.html','noturno',anos_proc],\n",
    "              'lic_inf': [path + 'lic_inf/UEA Cursos.html','noturno',anos_lic_inf],\n",
    "              'lic_comp': [path + 'lic_comp/UEA Cursos.html','vespertino',anos_lic_comp],\n",
    "              'si': [path + 'si/UEA Cursos.html','integral',anos_si]\n",
    "             }"
   ]
  },
  {
   "cell_type": "code",
   "execution_count": 8,
   "metadata": {},
   "outputs": [],
   "source": [
    "for key in dict_input.keys():\n",
    "    \n",
    "    page = codecs.open(dict_input[key][0], 'r', 'ISO-8859-1')\n",
    "    page = page.read()\n",
    "    \n",
    "    dfs = pd.read_html(page)\n",
    "    \n",
    "    df_curso = pd.DataFrame()\n",
    "    i=0\n",
    "        \n",
    "    for df in dfs:\n",
    "        #print(dict_input[key][2], i, key)\n",
    "        df['Ingresso'] = dict_input[key][2][i]\n",
    "        df['Turno'] = dict_input[key][1]\n",
    "        df_curso = df_curso.append(df, ignore_index=True, sort=False)\n",
    "        i+=1\n",
    "    df_curso.to_csv('dfs_cursos/' + key + '.csv')"
   ]
  },
  {
   "cell_type": "code",
   "execution_count": null,
   "metadata": {},
   "outputs": [],
   "source": []
  }
 ],
 "metadata": {
  "kernelspec": {
   "display_name": "Python 3",
   "language": "python",
   "name": "python3"
  },
  "language_info": {
   "codemirror_mode": {
    "name": "ipython",
    "version": 3
   },
   "file_extension": ".py",
   "mimetype": "text/x-python",
   "name": "python",
   "nbconvert_exporter": "python",
   "pygments_lexer": "ipython3",
   "version": "3.5.2"
  }
 },
 "nbformat": 4,
 "nbformat_minor": 2
}
